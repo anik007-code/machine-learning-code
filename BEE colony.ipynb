{
 "cells": [
  {
   "cell_type": "code",
   "execution_count": 1,
   "metadata": {},
   "outputs": [
    {
     "name": "stdout",
     "output_type": "stream",
     "text": [
      "[[6.28538745 6.84266968 2.00937599]\n",
      " [0.84295056 1.77477986 2.34282649]\n",
      " [2.37919983 6.97788543 6.01834731]]\n"
     ]
    }
   ],
   "source": [
    " \"\"\"f(x)=x1^2+x2^2+x3^2\n",
    "lb=0, ub=8\n",
    "size=6\"\"\"\n",
    "import numpy as np\n",
    "#Initialization of problem\n",
    "size=6\n",
    "n_e=size//2\n",
    "pop=np.empty((n_e,3))\n",
    "\n",
    "for i in range(pop.shape[0]):\n",
    "    for j in range(pop.shape[1]):\n",
    "        pop[i,j]=0+np.random.random((1,))*(8-0)\n",
    "print(pop)"
   ]
  },
  {
   "cell_type": "code",
   "execution_count": 2,
   "metadata": {},
   "outputs": [
    {
     "name": "stdout",
     "output_type": "stream",
     "text": [
      "[[6.28538745 6.84266968 2.00937599]\n",
      " [0.84295056 1.77477986 2.34282649]\n",
      " [2.37919983 6.97788543 6.01834731]]\n",
      "[0.010945012576027332, 0.09662540472139082, 0.010920370911254607]\n",
      "[0.84295056 1.77477986 2.34282649]\n",
      "[0, 0, 0]\n"
     ]
    }
   ],
   "source": [
    "def objective(pop):\n",
    "    f=[]\n",
    "    for i in range(pop.shape[0]):\n",
    "        f.append(pop[i,0]**2+pop[i,1]**2+pop[i,2]**2)\n",
    "    return f\n",
    "\n",
    "def fitness(pop):\n",
    "    o=objective(pop)\n",
    "    fit=[]\n",
    "    for i in o:\n",
    "        if(i<0):\n",
    "            fit.append(1-i)\n",
    "        else:\n",
    "            fit.append(1/(1+i))\n",
    "    return fit\n",
    "best=pop[np.argmax(fitness(pop)),:]\n",
    "trial=[0]*pop.shape[0]\n",
    "print(pop)\n",
    "print(fitness(pop))\n",
    "print(best)\n",
    "print(trial)\n"
   ]
  },
  {
   "cell_type": "code",
   "execution_count": 3,
   "metadata": {},
   "outputs": [
    {
     "name": "stdout",
     "output_type": "stream",
     "text": [
      "[[6.28538745 6.84266968 2.00937599]\n",
      " [0.84295056 1.77477986 2.34282649]\n",
      " [2.37919983 6.97788543 2.37313683]]\n",
      "[1, 1, 0]\n"
     ]
    }
   ],
   "source": [
    "#Employee bee's phase\n",
    "import random\n",
    "def employee(pop,fit,lb,up,trial,n_e):\n",
    "    for i in range(3):\n",
    "        p=random.randint(0,2)\n",
    "        while(i==p):\n",
    "            p=random.randint(0,2)\n",
    "        j=random.randint(0,pop.shape[1]-1)\n",
    "        new=pop[i,j]+np.random.uniform(low=-1,high=1,size=(1,))*(pop[i,j]-pop[p,j])\n",
    "        if(new<lb):\n",
    "            new=lb\n",
    "        if(new>up):\n",
    "            new=up\n",
    "        x_new=np.array([pop[i,:].copy()])\n",
    "        x_new[0,j]=new\n",
    "        f=fitness(x_new)\n",
    "        if(f>fit[i]):\n",
    "            pop[i,:]=x_new[:]\n",
    "            trial[i]=0\n",
    "        else:\n",
    "            trial[i]=trial[i]+1\n",
    "    return pop\n",
    "\n",
    "print(employee(pop,fitness(pop),0,8,trial,n_e))\n",
    "print(trial)"
   ]
  },
  {
   "cell_type": "code",
   "execution_count": null,
   "metadata": {
    "collapsed": true
   },
   "outputs": [],
   "source": []
  }
 ],
 "metadata": {
  "kernelspec": {
   "display_name": "Python 3",
   "language": "python",
   "name": "python3"
  },
  "language_info": {
   "codemirror_mode": {
    "name": "ipython",
    "version": 3
   },
   "file_extension": ".py",
   "mimetype": "text/x-python",
   "name": "python",
   "nbconvert_exporter": "python",
   "pygments_lexer": "ipython3",
   "version": "3.7.4"
  }
 },
 "nbformat": 4,
 "nbformat_minor": 2
}
