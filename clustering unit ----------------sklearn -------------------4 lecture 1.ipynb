{
 "cells": [
  {
   "cell_type": "markdown",
   "metadata": {},
   "source": [
    "# Cluster by Sklearn "
   ]
  },
  {
   "cell_type": "code",
   "execution_count": 1,
   "metadata": {},
   "outputs": [],
   "source": [
    "from sklearn.datasets import make_blobs"
   ]
  },
  {
   "cell_type": "code",
   "execution_count": 2,
   "metadata": {},
   "outputs": [],
   "source": [
    "x,y= make_blobs(n_samples=150, n_features=2, centers=3, cluster_std=0.5, shuffle=True)"
   ]
  },
  {
   "cell_type": "code",
   "execution_count": 3,
   "metadata": {
    "scrolled": false
   },
   "outputs": [
    {
     "data": {
      "text/plain": [
       "(array([[ 2.42099325,  9.61570016],\n",
       "        [ 2.5586976 ,  9.6395817 ],\n",
       "        [-0.36616275, -1.51613541],\n",
       "        [ 2.41148993, 10.41236916],\n",
       "        [-0.90250972, -2.86980233],\n",
       "        [ 0.08365143, -2.4838515 ],\n",
       "        [ 0.8450769 , -1.61358198],\n",
       "        [ 6.70773342,  9.67876702],\n",
       "        [ 7.31187722, 10.53236351],\n",
       "        [ 2.38699289,  9.48399575],\n",
       "        [ 5.94621529, 10.51390913],\n",
       "        [ 1.75006383,  9.22645968],\n",
       "        [ 0.09854861, -1.58734107],\n",
       "        [ 2.22167346,  9.68862796],\n",
       "        [ 1.65880499, 10.24817343],\n",
       "        [ 6.15419321,  9.23434374],\n",
       "        [-0.32287688, -1.66015137],\n",
       "        [ 0.05345235, -1.45899661],\n",
       "        [ 5.98884353,  9.99700058],\n",
       "        [ 6.60583714, 10.23421141],\n",
       "        [ 7.31086997,  9.53636909],\n",
       "        [-0.5863378 , -2.28821844],\n",
       "        [ 2.08494269,  9.6332272 ],\n",
       "        [ 3.15047839, 10.27357495],\n",
       "        [ 2.92078304, 10.38668032],\n",
       "        [-0.1067663 , -1.85312642],\n",
       "        [ 6.66155587,  8.97838797],\n",
       "        [-0.97399185, -2.10161611],\n",
       "        [ 0.20215729, -2.41918758],\n",
       "        [-0.9081065 , -1.95002513],\n",
       "        [ 0.43552915, -2.35894573],\n",
       "        [ 0.85846519, -1.81594687],\n",
       "        [ 0.2845659 , -1.43394687],\n",
       "        [ 2.56904775,  9.88334212],\n",
       "        [ 0.93357312, -1.77104751],\n",
       "        [ 3.58202503,  9.67687229],\n",
       "        [ 0.29720638, -0.66721548],\n",
       "        [ 6.2457795 ,  9.46018253],\n",
       "        [ 0.85346836, -1.48118804],\n",
       "        [ 6.24484834,  9.05760718],\n",
       "        [ 0.41811869, -2.38355993],\n",
       "        [ 6.26786146,  9.73018798],\n",
       "        [ 2.73456976,  9.67626563],\n",
       "        [ 3.58478488,  9.20157888],\n",
       "        [ 6.38311455,  8.77559418],\n",
       "        [ 6.90630366,  8.9305166 ],\n",
       "        [-0.61454712, -1.81331867],\n",
       "        [ 5.65002632,  9.65919273],\n",
       "        [ 0.05753534, -2.4633069 ],\n",
       "        [ 3.57233744,  9.71076688],\n",
       "        [ 0.5412284 , -1.39424022],\n",
       "        [-0.80594383, -1.52265769],\n",
       "        [ 7.23687107,  9.44916137],\n",
       "        [-0.10456664, -2.0141198 ],\n",
       "        [ 6.41111822,  9.53812239],\n",
       "        [ 2.53417207,  9.90095097],\n",
       "        [ 2.8392321 , 10.07169689],\n",
       "        [ 5.8790189 , 10.37202924],\n",
       "        [ 0.3949498 , -1.64347258],\n",
       "        [ 3.57096693,  9.49852567],\n",
       "        [ 3.35706814,  8.89162534],\n",
       "        [ 3.03760348, 10.38064416],\n",
       "        [ 6.0376344 ,  9.59158244],\n",
       "        [ 0.24523853, -2.08671243],\n",
       "        [ 0.8971383 , -0.583688  ],\n",
       "        [ 2.52819931,  9.53560977],\n",
       "        [ 2.78046421,  9.93928196],\n",
       "        [ 2.32967745, 10.67316987],\n",
       "        [ 6.54986572,  9.66334055],\n",
       "        [ 5.76298267,  9.96932237],\n",
       "        [-0.03479611, -1.68094196],\n",
       "        [ 2.35829071, 10.49139173],\n",
       "        [ 2.44638264,  9.75638395],\n",
       "        [ 6.2454004 ,  9.28634227],\n",
       "        [ 3.03040796,  9.78889406],\n",
       "        [ 0.54729258, -2.49744325],\n",
       "        [ 0.10711093, -2.45617558],\n",
       "        [ 0.23837827, -1.90312881],\n",
       "        [ 2.47716812, 10.0476531 ],\n",
       "        [ 7.14281602, 10.24788822],\n",
       "        [ 1.87228244,  9.84081153],\n",
       "        [ 0.19558355, -1.15861753],\n",
       "        [ 7.54252136,  9.63099422],\n",
       "        [ 6.80323031,  9.45293707],\n",
       "        [ 2.94745747,  9.84721892],\n",
       "        [ 0.29682694, -2.59727961],\n",
       "        [ 1.66320957,  9.69680526],\n",
       "        [ 7.13021044, 10.09693189],\n",
       "        [ 6.44033019, 10.49995527],\n",
       "        [ 6.55411402,  9.30632608],\n",
       "        [ 2.43200927,  9.1272662 ],\n",
       "        [ 1.81571975,  9.48196855],\n",
       "        [ 6.85714868,  9.37601491],\n",
       "        [ 6.3511337 ,  9.53310916],\n",
       "        [ 2.33717954,  9.11354177],\n",
       "        [ 7.12763396,  9.34420323],\n",
       "        [ 0.5535851 , -2.96763386],\n",
       "        [ 0.14255438, -2.49331537],\n",
       "        [ 0.40019582, -2.26611692],\n",
       "        [ 7.30763757,  9.61960956],\n",
       "        [ 6.54572574,  9.96067042],\n",
       "        [ 6.64763927,  9.93856383],\n",
       "        [ 6.19792421,  9.53149883],\n",
       "        [-0.39332712, -1.76883096],\n",
       "        [ 0.29279112, -2.52559135],\n",
       "        [ 3.1287351 , 10.11655382],\n",
       "        [ 5.83129458,  9.82490423],\n",
       "        [ 3.55076204, 11.06611648],\n",
       "        [ 3.09939428,  9.96161137],\n",
       "        [ 0.12045503, -1.97046223],\n",
       "        [ 6.74843197,  9.62430698],\n",
       "        [ 2.44535468,  9.8192307 ],\n",
       "        [ 2.17772892,  9.53674809],\n",
       "        [-0.80892037, -1.60241717],\n",
       "        [ 3.06436502, 10.44808245],\n",
       "        [ 2.16148026,  9.24273605],\n",
       "        [ 1.87445255, 10.58852621],\n",
       "        [-0.45356206, -1.9897401 ],\n",
       "        [ 2.84407755,  9.76145107],\n",
       "        [ 6.1978828 ,  9.66829403],\n",
       "        [ 0.2863328 , -1.6129964 ],\n",
       "        [ 7.07732454,  8.76620982],\n",
       "        [-0.84796583, -0.78630097],\n",
       "        [-0.20543107, -1.88556874],\n",
       "        [ 6.0540145 ,  9.72755553],\n",
       "        [ 1.89688328,  9.85202411],\n",
       "        [ 7.25911696,  9.66532181],\n",
       "        [ 7.20256815,  8.99245252],\n",
       "        [ 5.66393551,  9.58763724],\n",
       "        [ 2.43382042, 10.46061806],\n",
       "        [-0.42210132, -0.60041101],\n",
       "        [ 6.73481989, 10.48425335],\n",
       "        [ 6.1688751 ,  8.95399857],\n",
       "        [ 3.01638241,  9.24311925],\n",
       "        [ 6.71286357,  9.58436233],\n",
       "        [ 6.25906691,  9.28419017],\n",
       "        [ 0.54006307, -1.32248523],\n",
       "        [-0.36619385, -1.78813665],\n",
       "        [ 6.90695547,  9.67254342],\n",
       "        [ 3.26520932,  9.56551817],\n",
       "        [ 0.13679036, -1.5670876 ],\n",
       "        [ 2.69707277,  9.82665297],\n",
       "        [ 6.64227258, 10.17170854],\n",
       "        [ 5.63076578,  9.02014771],\n",
       "        [ 0.59167462, -2.10388939],\n",
       "        [ 0.12056794, -1.50835515],\n",
       "        [ 2.11782572,  9.65796558],\n",
       "        [ 2.65678152,  9.95142498],\n",
       "        [ 6.39051252,  9.35417198],\n",
       "        [ 2.11876652,  9.10649091]]),\n",
       " array([1, 1, 2, 1, 2, 2, 2, 0, 0, 1, 0, 1, 2, 1, 1, 0, 2, 2, 0, 0, 0, 2,\n",
       "        1, 1, 1, 2, 0, 2, 2, 2, 2, 2, 2, 1, 2, 1, 2, 0, 2, 0, 2, 0, 1, 1,\n",
       "        0, 0, 2, 0, 2, 1, 2, 2, 0, 2, 0, 1, 1, 0, 2, 1, 1, 1, 0, 2, 2, 1,\n",
       "        1, 1, 0, 0, 2, 1, 1, 0, 1, 2, 2, 2, 1, 0, 1, 2, 0, 0, 1, 2, 1, 0,\n",
       "        0, 0, 1, 1, 0, 0, 1, 0, 2, 2, 2, 0, 0, 0, 0, 2, 2, 1, 0, 1, 1, 2,\n",
       "        0, 1, 1, 2, 1, 1, 1, 2, 1, 0, 2, 0, 2, 2, 0, 1, 0, 0, 0, 1, 2, 0,\n",
       "        0, 1, 0, 0, 2, 2, 0, 1, 2, 1, 0, 0, 2, 2, 1, 1, 0, 1]))"
      ]
     },
     "execution_count": 3,
     "metadata": {},
     "output_type": "execute_result"
    }
   ],
   "source": [
    "x,y  "
   ]
  },
  {
   "cell_type": "code",
   "execution_count": 4,
   "metadata": {},
   "outputs": [],
   "source": [
    "import matplotlib.pyplot as plt"
   ]
  },
  {
   "cell_type": "code",
   "execution_count": 5,
   "metadata": {},
   "outputs": [
    {
     "data": {
      "image/png": "[encoded data removed]",
      "text/plain": [
       "<Figure size 432x288 with 1 Axes>"
      ]
     },
     "metadata": {
      "needs_background": "light"
     },
     "output_type": "display_data"
    }
   ],
   "source": [
    "plt.scatter(x[:,0], x[:,1])\n",
    "plt.show() "
   ]
  },
  {
   "cell_type": "code",
   "execution_count": null,
   "metadata": {},
   "outputs": [],
   "source": []
  },
  {
   "cell_type": "code",
   "execution_count": 6,
   "metadata": {},
   "outputs": [],
   "source": [
    "from sklearn.cluster import KMeans"
   ]
  },
  {
   "cell_type": "code",
   "execution_count": 7,
   "metadata": {},
   "outputs": [],
   "source": [
    "km=KMeans(n_clusters=3, init='random')"
   ]
  },
  {
   "cell_type": "code",
   "execution_count": 8,
   "metadata": {},
   "outputs": [],
   "source": [
    "y_km=km.fit_predict(x)                                                             "
   ]
  },
  {
   "cell_type": "code",
   "execution_count": 9,
   "metadata": {},
   "outputs": [
    {
     "data": {
      "image/png": "[encoded data removed]",
      "text/plain": [
       "<Figure size 432x288 with 1 Axes>"
      ]
     },
     "metadata": {
      "needs_background": "light"
     },
     "output_type": "display_data"
    }
   ],
   "source": [
    "plt.scatter(x[y_km == 0,0 ], x[y_km == 0,1], c='red', marker='s', label='cluster1' )\n",
    "plt.scatter(x[y_km==1,0], x[y_km == 1, 1], c='orange', marker='o', label='cluster2')\n",
    "plt.scatter(x[y_km==2,0], x[y_km==2,1], c='black', marker='^', label='cluster3')\n",
    "plt.show()"
   ]
  },
  {
   "cell_type": "code",
   "execution_count": 10,
   "metadata": {},
   "outputs": [
    {
     "name": "stdout",
     "output_type": "stream",
     "text": [
      "Distortion:  74.5336903123669\n"
     ]
    }
   ],
   "source": [
    "print(\"Distortion: \", km.inertia_)"
   ]
  },
  {
   "cell_type": "code",
   "execution_count": 11,
   "metadata": {},
   "outputs": [],
   "source": [
    "distortion=[]\n",
    "for i in range(1,20):\n",
    "    km=KMeans(n_clusters=i, init='random')\n",
    "    y_km=km.fit_predict(x)\n",
    "    distortion.append(km.inertia_)"
   ]
  },
  {
   "cell_type": "code",
   "execution_count": 12,
   "metadata": {},
   "outputs": [
    {
     "data": {
      "text/plain": [
       "[5599.637529229449,\n",
       " 460.1611258087536,\n",
       " 74.5336903123669,\n",
       " 64.58227150241277,\n",
       " 55.14939344077125,\n",
       " 47.622663710758026,\n",
       " 41.54136960317615,\n",
       " 34.44492708095251,\n",
       " 31.73724782744869,\n",
       " 32.14425534916566,\n",
       " 24.68556869181335,\n",
       " 22.877562088664224,\n",
       " 21.531455052293154,\n",
       " 20.11603412941934,\n",
       " 17.763317762578446,\n",
       " 16.695480182888105,\n",
       " 15.507201678557758,\n",
       " 15.26630275430292,\n",
       " 12.99984269351931]"
      ]
     },
     "execution_count": 12,
     "metadata": {},
     "output_type": "execute_result"
    }
   ],
   "source": [
    "distortion"
   ]
  },
  {
   "cell_type": "code",
   "execution_count": 13,
   "metadata": {},
   "outputs": [],
   "source": [
    "import numpy as np\n",
    "a=np.arange(1,20)"
   ]
  },
  {
   "cell_type": "code",
   "execution_count": 14,
   "metadata": {
    "scrolled": true
   },
   "outputs": [
    {
     "data": {
      "image/png": "[encoded data removed]",
      "text/plain": [
       "<Figure size 432x288 with 1 Axes>"
      ]
     },
     "metadata": {
      "needs_background": "light"
     },
     "output_type": "display_data"
    }
   ],
   "source": [
    "plt.plot(a, distortion)\n",
    "plt.show()"
   ]
  },
  {
   "cell_type": "code",
   "execution_count": 15,
   "metadata": {},
   "outputs": [],
   "source": [
    "from sklearn.cluster import AgglomerativeClustering\n",
    "ac=AgglomerativeClustering(n_clusters=3, affinity='euclidean', linkage='complete')"
   ]
  },
  {
   "cell_type": "code",
   "execution_count": 16,
   "metadata": {},
   "outputs": [],
   "source": [
    "labels=ac.fit_predict(x)"
   ]
  },
  {
   "cell_type": "code",
   "execution_count": 17,
   "metadata": {},
   "outputs": [
    {
     "name": "stdout",
     "output_type": "stream",
     "text": [
      "[1 1 0 1 0 0 0 2 2 1 2 1 0 1 1 2 0 0 2 2 2 0 1 1 1 0 2 0 0 0 0 0 0 1 0 1 0\n",
      " 2 0 2 0 2 1 1 2 2 0 2 0 1 0 0 2 0 2 1 1 2 0 1 1 1 2 0 0 1 1 1 2 2 0 1 1 2\n",
      " 1 0 0 0 1 2 1 0 2 2 1 0 1 2 2 2 1 1 2 2 1 2 0 0 0 2 2 2 2 0 0 1 2 1 1 0 2\n",
      " 1 1 0 1 1 1 0 1 2 0 2 0 0 2 1 2 2 2 1 0 2 2 1 2 2 0 0 2 1 0 1 2 2 0 0 1 1\n",
      " 2 1]\n"
     ]
    }
   ],
   "source": [
    "print(labels)"
   ]
  },
  {
   "cell_type": "markdown",
   "metadata": {},
   "source": [
    "# MAKE MOONS "
   ]
  },
  {
   "cell_type": "code",
   "execution_count": 18,
   "metadata": {},
   "outputs": [],
   "source": [
    "from sklearn.datasets import make_moons\n",
    "x,y=make_moons(n_samples=200, noise=0.05)"
   ]
  },
  {
   "cell_type": "code",
   "execution_count": 19,
   "metadata": {},
   "outputs": [
    {
     "data": {
      "text/plain": [
       "<matplotlib.collections.PathCollection at 0x1930d89b348>"
      ]
     },
     "execution_count": 19,
     "metadata": {},
     "output_type": "execute_result"
    },
    {
     "data": {
      "image/png": "[encoded data removed]",
      "text/plain": [
       "<Figure size 432x288 with 1 Axes>"
      ]
     },
     "metadata": {
      "needs_background": "light"
     },
     "output_type": "display_data"
    }
   ],
   "source": [
    "plt.scatter(x[:,0],x[:,1])"
   ]
  },
  {
   "cell_type": "code",
   "execution_count": 20,
   "metadata": {},
   "outputs": [],
   "source": [
    "from sklearn.cluster import DBSCAN\n",
    "db=DBSCAN(eps=0.2, min_samples=5, metric='euclidean')"
   ]
  },
  {
   "cell_type": "code",
   "execution_count": 21,
   "metadata": {},
   "outputs": [],
   "source": [
    "y_db=db.fit_predict(x)"
   ]
  },
  {
   "cell_type": "code",
   "execution_count": 22,
   "metadata": {
    "scrolled": true
   },
   "outputs": [
    {
     "data": {
      "image/png": "[encoded data removed]",
      "text/plain": [
       "<Figure size 432x288 with 1 Axes>"
      ]
     },
     "metadata": {
      "needs_background": "light"
     },
     "output_type": "display_data"
    }
   ],
   "source": [
    "plt.scatter(x[y_db==0,0], x[y_db==0,1], c='red', marker='o')\n",
    "plt.scatter(x[y_db==1,0], x[y_db==1,1], c='green', marker='s')\n",
    "plt.show()"
   ]
  },
  {
   "cell_type": "code",
   "execution_count": 23,
   "metadata": {},
   "outputs": [],
   "source": [
    "km1=KMeans(n_clusters=2, init='random')\n",
    "y_km1=km1.fit_predict(x)          "
   ]
  },
  {
   "cell_type": "code",
   "execution_count": 24,
   "metadata": {
    "scrolled": true
   },
   "outputs": [
    {
     "data": {
      "image/png": "[encoded data removed]",
      "text/plain": [
       "<Figure size 432x288 with 1 Axes>"
      ]
     },
     "metadata": {
      "needs_background": "light"
     },
     "output_type": "display_data"
    }
   ],
   "source": [
    "plt.scatter(x[y_km1==0,0], x[y_km1==0,1], c='red', marker='o')\n",
    "plt.scatter(x[y_km1==1,0], x[y_km1==1,1], c='green', marker='s')\n",
    "plt.show()"
   ]
  },
  {
   "cell_type": "code",
   "execution_count": 25,
   "metadata": {},
   "outputs": [],
   "source": [
    "ac1=AgglomerativeClustering(n_clusters=2, affinity='euclidean', linkage='complete')"
   ]
  },
  {
   "cell_type": "code",
   "execution_count": 26,
   "metadata": {},
   "outputs": [],
   "source": [
    "y_ac1=ac1.fit_predict(x)"
   ]
  },
  {
   "cell_type": "code",
   "execution_count": 27,
   "metadata": {},
   "outputs": [
    {
     "data": {
      "image/png": "[encoded data removed]",
      "text/plain": [
       "<Figure size 432x288 with 1 Axes>"
      ]
     },
     "metadata": {
      "needs_background": "light"
     },
     "output_type": "display_data"
    }
   ],
   "source": [
    "plt.scatter(x[y_ac1==0,0], x[y_ac1==0,1], c='red', marker='o')\n",
    "plt.scatter(x[y_ac1==1,0], x[y_ac1==1,1], c='green', marker='s')\n",
    "plt.show() "
   ]
  },
  {
   "cell_type": "code",
   "execution_count": null,
   "metadata": {},
   "outputs": [],
   "source": []
  },
  {
   "cell_type": "code",
   "execution_count": null,
   "metadata": {},
   "outputs": [],
   "source": []
  }
 ],
 "metadata": {
  "kernelspec": {
   "display_name": "Python 3",
   "language": "python",
   "name": "python3"
  },
  "language_info": {
   "codemirror_mode": {
    "name": "ipython",
    "version": 3
   },
   "file_extension": ".py",
   "mimetype": "text/x-python",
   "name": "python",
   "nbconvert_exporter": "python",
   "pygments_lexer": "ipython3",
   "version": "3.7.4"
  }
 },
 "nbformat": 4,
 "nbformat_minor": 2
}
