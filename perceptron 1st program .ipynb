{
 "cells": [
  {
   "cell_type": "code",
   "execution_count": 1,
   "metadata": {},
   "outputs": [
    {
     "name": "stdout",
     "output_type": "stream",
     "text": [
      " Inputs : \n",
      " [[0 0 0]\n",
      " [0 0 1]\n",
      " [0 1 0]\n",
      " [0 1 1]\n",
      " [1 0 0]\n",
      " [1 0 1]\n",
      " [1 1 0]\n",
      " [1 1 1]]\n",
      "outpusts  [-1 -1 -1 -1  1  1  1  1]\n",
      " output for [1,1,1] is  1\n",
      " output for [0,0,0] is  -1\n"
     ]
    }
   ],
   "source": [
    "import numpy as np    \n",
    "class Perceptron(object):\n",
    "    \n",
    "    def __init__(self, eta=0.01, n_iter=10):\n",
    "        self.eta = eta # Learning rate (between 0.0 and 1.0)\n",
    "        self.n_iter = n_iter # Passes over the training dataset.\n",
    "    def fit(self, X, y):\n",
    "       \n",
    "        self.w_ = np.zeros(1 + X.shape[1])\n",
    "        \n",
    "        for _ in range(self.n_iter):\n",
    "            \n",
    "            for xi, target in zip(X, y):\n",
    "                error=target-self.predict(xi)\n",
    "                if error!=0:\n",
    "                    update = self.eta * (target-self.predict(xi))\n",
    "                    self.w_[1:] += update * xi\n",
    "                    self.w_[0] += update*1\n",
    "                \n",
    "                                                                                                                                 \n",
    "        return self\n",
    "    def net_input(self, X):\n",
    "        \"\"\"Calculate net input\"\"\"\n",
    "        return np.dot(X, self.w_[1:]) + self.w_[0]\n",
    "    def predict(self, X):\n",
    "        \"\"\"Return class label after unit step\"\"\"\n",
    "        return np.where(self.net_input(X) >= 0.0, 1, -1)\n",
    "\n",
    "import pandas as pd\n",
    "import matplotlib.pyplot as plt\n",
    "# inpur of 8 x 3\n",
    "X=np.array([[0,0,0],[0,0,1],[0,1,0],[0,1,1],[1,0,0],[1,0,1],[1,1,0],[1,1,1]])\n",
    "print(' Inputs : \\n',X)\n",
    "# target\n",
    "y=np.array([-1,-1,-1,-1,1,1,1,1])\n",
    "## call perceptron class\n",
    "ppn = Perceptron(eta=0.1, n_iter=10)            \n",
    "ppn.fit(X, y)\n",
    "## predict o/ps\n",
    "print('outpusts ', ppn.predict(X))\n",
    "print(' output for [1,1,1] is ',ppn.predict([1,1,1]))\n",
    "print(' output for [0,0,0] is ',ppn.predict([0,0,0])) # predicting o/p for given inputs\n"
   ]
  },
  {
   "cell_type": "code",
   "execution_count": null,
   "metadata": {},
   "outputs": [],
   "source": []
  }
 ],
 "metadata": {
  "kernelspec": {
   "display_name": "Python 3",
   "language": "python",
   "name": "python3"
  },
  "language_info": {
   "codemirror_mode": {
    "name": "ipython",
    "version": 3
   },
   "file_extension": ".py",
   "mimetype": "text/x-python",
   "name": "python",
   "nbconvert_exporter": "python",
   "pygments_lexer": "ipython3",
   "version": "3.7.4"
  }
 },
 "nbformat": 4,
 "nbformat_minor": 2
}
